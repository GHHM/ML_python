{
 "cells": [
  {
   "cell_type": "code",
   "execution_count": 13,
   "metadata": {},
   "outputs": [],
   "source": [
    "import numpy as np\n",
    "import pandas as pd\n",
    "import seaborn as sns\n",
    "import matplotlib.pyplot as plt\n",
    "import seaborn as sns\n",
    "%matplotlib inline"
   ]
  },
  {
   "cell_type": "code",
   "execution_count": 14,
   "metadata": {},
   "outputs": [],
   "source": [
    "data = pd.read_csv('./input/Malware_dynamic.csv')\n",
    "\n",
    "# print(data[:, 2:])"
   ]
  },
  {
   "cell_type": "code",
   "execution_count": 15,
   "metadata": {},
   "outputs": [
    {
     "data": {
      "text/html": [
       "<div>\n",
       "<style scoped>\n",
       "    .dataframe tbody tr th:only-of-type {\n",
       "        vertical-align: middle;\n",
       "    }\n",
       "\n",
       "    .dataframe tbody tr th {\n",
       "        vertical-align: top;\n",
       "    }\n",
       "\n",
       "    .dataframe thead th {\n",
       "        text-align: right;\n",
       "    }\n",
       "</style>\n",
       "<table border=\"1\" class=\"dataframe\">\n",
       "  <thead>\n",
       "    <tr style=\"text-align: right;\">\n",
       "      <th></th>\n",
       "      <th>read</th>\n",
       "      <th>modified</th>\n",
       "      <th>deleted</th>\n",
       "      <th>accessed</th>\n",
       "      <th>N_udp</th>\n",
       "      <th>N_http</th>\n",
       "      <th>N_icmp</th>\n",
       "      <th>N_tcp</th>\n",
       "      <th>N_hosts</th>\n",
       "      <th>N_dns</th>\n",
       "      <th>...</th>\n",
       "      <th>werconcpl.dll</th>\n",
       "      <th>pstorec.dll</th>\n",
       "      <th>MTFServer.dll</th>\n",
       "      <th>DevDispItemProvider.dll</th>\n",
       "      <th>comdlg32.dll</th>\n",
       "      <th>WININET.dll</th>\n",
       "      <th>MSVCR90.dll</th>\n",
       "      <th>USP10.dll</th>\n",
       "      <th>d2d1.dll</th>\n",
       "      <th>CHARTV.dll</th>\n",
       "    </tr>\n",
       "  </thead>\n",
       "  <tbody>\n",
       "    <tr>\n",
       "      <td>1045</td>\n",
       "      <td>116</td>\n",
       "      <td>0</td>\n",
       "      <td>0</td>\n",
       "      <td>0</td>\n",
       "      <td>2</td>\n",
       "      <td>0</td>\n",
       "      <td>0</td>\n",
       "      <td>1</td>\n",
       "      <td>3</td>\n",
       "      <td>0</td>\n",
       "      <td>...</td>\n",
       "      <td>0</td>\n",
       "      <td>0</td>\n",
       "      <td>0</td>\n",
       "      <td>0</td>\n",
       "      <td>0</td>\n",
       "      <td>0</td>\n",
       "      <td>0</td>\n",
       "      <td>0</td>\n",
       "      <td>0</td>\n",
       "      <td>0</td>\n",
       "    </tr>\n",
       "    <tr>\n",
       "      <td>882</td>\n",
       "      <td>0</td>\n",
       "      <td>0</td>\n",
       "      <td>0</td>\n",
       "      <td>0</td>\n",
       "      <td>0</td>\n",
       "      <td>0</td>\n",
       "      <td>0</td>\n",
       "      <td>2</td>\n",
       "      <td>2</td>\n",
       "      <td>0</td>\n",
       "      <td>...</td>\n",
       "      <td>0</td>\n",
       "      <td>0</td>\n",
       "      <td>0</td>\n",
       "      <td>0</td>\n",
       "      <td>0</td>\n",
       "      <td>0</td>\n",
       "      <td>0</td>\n",
       "      <td>0</td>\n",
       "      <td>0</td>\n",
       "      <td>0</td>\n",
       "    </tr>\n",
       "    <tr>\n",
       "      <td>5019</td>\n",
       "      <td>1747</td>\n",
       "      <td>421</td>\n",
       "      <td>25</td>\n",
       "      <td>105</td>\n",
       "      <td>0</td>\n",
       "      <td>0</td>\n",
       "      <td>0</td>\n",
       "      <td>1</td>\n",
       "      <td>2</td>\n",
       "      <td>0</td>\n",
       "      <td>...</td>\n",
       "      <td>0</td>\n",
       "      <td>0</td>\n",
       "      <td>0</td>\n",
       "      <td>0</td>\n",
       "      <td>0</td>\n",
       "      <td>0</td>\n",
       "      <td>0</td>\n",
       "      <td>0</td>\n",
       "      <td>0</td>\n",
       "      <td>0</td>\n",
       "    </tr>\n",
       "    <tr>\n",
       "      <td>3971</td>\n",
       "      <td>211</td>\n",
       "      <td>35</td>\n",
       "      <td>0</td>\n",
       "      <td>17</td>\n",
       "      <td>3</td>\n",
       "      <td>0</td>\n",
       "      <td>0</td>\n",
       "      <td>2</td>\n",
       "      <td>3</td>\n",
       "      <td>0</td>\n",
       "      <td>...</td>\n",
       "      <td>0</td>\n",
       "      <td>0</td>\n",
       "      <td>0</td>\n",
       "      <td>0</td>\n",
       "      <td>0</td>\n",
       "      <td>0</td>\n",
       "      <td>0</td>\n",
       "      <td>0</td>\n",
       "      <td>0</td>\n",
       "      <td>0</td>\n",
       "    </tr>\n",
       "    <tr>\n",
       "      <td>2464</td>\n",
       "      <td>3636</td>\n",
       "      <td>6</td>\n",
       "      <td>0</td>\n",
       "      <td>0</td>\n",
       "      <td>2</td>\n",
       "      <td>0</td>\n",
       "      <td>0</td>\n",
       "      <td>1</td>\n",
       "      <td>3</td>\n",
       "      <td>0</td>\n",
       "      <td>...</td>\n",
       "      <td>0</td>\n",
       "      <td>0</td>\n",
       "      <td>0</td>\n",
       "      <td>0</td>\n",
       "      <td>0</td>\n",
       "      <td>0</td>\n",
       "      <td>0</td>\n",
       "      <td>0</td>\n",
       "      <td>0</td>\n",
       "      <td>0</td>\n",
       "    </tr>\n",
       "  </tbody>\n",
       "</table>\n",
       "<p>5 rows × 804 columns</p>\n",
       "</div>"
      ],
      "text/plain": [
       "      read  modified  deleted  accessed  N_udp  N_http  N_icmp  N_tcp  \\\n",
       "1045   116         0        0         0      2       0       0      1   \n",
       "882      0         0        0         0      0       0       0      2   \n",
       "5019  1747       421       25       105      0       0       0      1   \n",
       "3971   211        35        0        17      3       0       0      2   \n",
       "2464  3636         6        0         0      2       0       0      1   \n",
       "\n",
       "      N_hosts  N_dns  ...  werconcpl.dll  pstorec.dll  MTFServer.dll  \\\n",
       "1045        3      0  ...              0            0              0   \n",
       "882         2      0  ...              0            0              0   \n",
       "5019        2      0  ...              0            0              0   \n",
       "3971        3      0  ...              0            0              0   \n",
       "2464        3      0  ...              0            0              0   \n",
       "\n",
       "      DevDispItemProvider.dll  comdlg32.dll  WININET.dll  MSVCR90.dll  \\\n",
       "1045                        0             0            0            0   \n",
       "882                         0             0            0            0   \n",
       "5019                        0             0            0            0   \n",
       "3971                        0             0            0            0   \n",
       "2464                        0             0            0            0   \n",
       "\n",
       "      USP10.dll  d2d1.dll  CHARTV.dll  \n",
       "1045          0         0           0  \n",
       "882           0         0           0  \n",
       "5019          0         0           0  \n",
       "3971          0         0           0  \n",
       "2464          0         0           0  \n",
       "\n",
       "[5 rows x 804 columns]"
      ]
     },
     "execution_count": 15,
     "metadata": {},
     "output_type": "execute_result"
    }
   ],
   "source": [
    "X = data.drop(['Name','label'],axis=1)\n",
    "y = data['label']\n",
    "\n",
    "X_train, X_test, y_train, y_test = train_test_split(X,y,test_size=0.2,random_state=101)\n",
    "X_train.head()"
   ]
  },
  {
   "cell_type": "code",
   "execution_count": 16,
   "metadata": {},
   "outputs": [],
   "source": [
    "scaler = StandardScaler()\n",
    "X_scaled = scaler.fit_transform(X_train)"
   ]
  },
  {
   "cell_type": "code",
   "execution_count": 17,
   "metadata": {},
   "outputs": [
    {
     "data": {
      "text/html": [
       "<div>\n",
       "<style scoped>\n",
       "    .dataframe tbody tr th:only-of-type {\n",
       "        vertical-align: middle;\n",
       "    }\n",
       "\n",
       "    .dataframe tbody tr th {\n",
       "        vertical-align: top;\n",
       "    }\n",
       "\n",
       "    .dataframe thead th {\n",
       "        text-align: right;\n",
       "    }\n",
       "</style>\n",
       "<table border=\"1\" class=\"dataframe\">\n",
       "  <thead>\n",
       "    <tr style=\"text-align: right;\">\n",
       "      <th></th>\n",
       "      <th>read</th>\n",
       "      <th>modified</th>\n",
       "      <th>deleted</th>\n",
       "      <th>accessed</th>\n",
       "      <th>N_udp</th>\n",
       "      <th>N_http</th>\n",
       "      <th>N_icmp</th>\n",
       "      <th>N_tcp</th>\n",
       "      <th>N_hosts</th>\n",
       "      <th>N_dns</th>\n",
       "      <th>...</th>\n",
       "      <th>werconcpl.dll</th>\n",
       "      <th>pstorec.dll</th>\n",
       "      <th>MTFServer.dll</th>\n",
       "      <th>DevDispItemProvider.dll</th>\n",
       "      <th>comdlg32.dll</th>\n",
       "      <th>WININET.dll</th>\n",
       "      <th>MSVCR90.dll</th>\n",
       "      <th>USP10.dll</th>\n",
       "      <th>d2d1.dll</th>\n",
       "      <th>CHARTV.dll</th>\n",
       "    </tr>\n",
       "  </thead>\n",
       "  <tbody>\n",
       "    <tr>\n",
       "      <td>0</td>\n",
       "      <td>-0.254656</td>\n",
       "      <td>-0.083903</td>\n",
       "      <td>-0.035172</td>\n",
       "      <td>-0.100053</td>\n",
       "      <td>-0.053718</td>\n",
       "      <td>-0.015743</td>\n",
       "      <td>-0.110045</td>\n",
       "      <td>-0.233079</td>\n",
       "      <td>0.762574</td>\n",
       "      <td>-0.045518</td>\n",
       "      <td>...</td>\n",
       "      <td>-0.286422</td>\n",
       "      <td>-0.031497</td>\n",
       "      <td>-0.044566</td>\n",
       "      <td>-0.286422</td>\n",
       "      <td>-0.246927</td>\n",
       "      <td>-0.417933</td>\n",
       "      <td>-0.047275</td>\n",
       "      <td>-0.022266</td>\n",
       "      <td>-0.286928</td>\n",
       "      <td>-0.286422</td>\n",
       "    </tr>\n",
       "    <tr>\n",
       "      <td>1</td>\n",
       "      <td>-0.267080</td>\n",
       "      <td>-0.083903</td>\n",
       "      <td>-0.035172</td>\n",
       "      <td>-0.100053</td>\n",
       "      <td>-0.061344</td>\n",
       "      <td>-0.015743</td>\n",
       "      <td>-0.110045</td>\n",
       "      <td>0.451570</td>\n",
       "      <td>-1.303030</td>\n",
       "      <td>-0.045518</td>\n",
       "      <td>...</td>\n",
       "      <td>-0.286422</td>\n",
       "      <td>-0.031497</td>\n",
       "      <td>-0.044566</td>\n",
       "      <td>-0.286422</td>\n",
       "      <td>-0.246927</td>\n",
       "      <td>-0.417933</td>\n",
       "      <td>-0.047275</td>\n",
       "      <td>-0.022266</td>\n",
       "      <td>-0.286928</td>\n",
       "      <td>-0.286422</td>\n",
       "    </tr>\n",
       "    <tr>\n",
       "      <td>2</td>\n",
       "      <td>-0.079975</td>\n",
       "      <td>0.299987</td>\n",
       "      <td>-0.021673</td>\n",
       "      <td>0.155595</td>\n",
       "      <td>-0.061344</td>\n",
       "      <td>-0.015743</td>\n",
       "      <td>-0.110045</td>\n",
       "      <td>-0.233079</td>\n",
       "      <td>-1.303030</td>\n",
       "      <td>-0.045518</td>\n",
       "      <td>...</td>\n",
       "      <td>-0.286422</td>\n",
       "      <td>-0.031497</td>\n",
       "      <td>-0.044566</td>\n",
       "      <td>-0.286422</td>\n",
       "      <td>-0.246927</td>\n",
       "      <td>-0.417933</td>\n",
       "      <td>-0.047275</td>\n",
       "      <td>-0.022266</td>\n",
       "      <td>-0.286928</td>\n",
       "      <td>-0.286422</td>\n",
       "    </tr>\n",
       "    <tr>\n",
       "      <td>3</td>\n",
       "      <td>-0.244482</td>\n",
       "      <td>-0.051988</td>\n",
       "      <td>-0.035172</td>\n",
       "      <td>-0.058663</td>\n",
       "      <td>-0.049905</td>\n",
       "      <td>-0.015743</td>\n",
       "      <td>-0.110045</td>\n",
       "      <td>0.451570</td>\n",
       "      <td>0.762574</td>\n",
       "      <td>-0.045518</td>\n",
       "      <td>...</td>\n",
       "      <td>-0.286422</td>\n",
       "      <td>-0.031497</td>\n",
       "      <td>-0.044566</td>\n",
       "      <td>-0.286422</td>\n",
       "      <td>-0.246927</td>\n",
       "      <td>-0.417933</td>\n",
       "      <td>-0.047275</td>\n",
       "      <td>-0.022266</td>\n",
       "      <td>-0.286928</td>\n",
       "      <td>-0.286422</td>\n",
       "    </tr>\n",
       "    <tr>\n",
       "      <td>4</td>\n",
       "      <td>0.122337</td>\n",
       "      <td>-0.078432</td>\n",
       "      <td>-0.035172</td>\n",
       "      <td>-0.100053</td>\n",
       "      <td>-0.053718</td>\n",
       "      <td>-0.015743</td>\n",
       "      <td>-0.110045</td>\n",
       "      <td>-0.233079</td>\n",
       "      <td>0.762574</td>\n",
       "      <td>-0.045518</td>\n",
       "      <td>...</td>\n",
       "      <td>-0.286422</td>\n",
       "      <td>-0.031497</td>\n",
       "      <td>-0.044566</td>\n",
       "      <td>-0.286422</td>\n",
       "      <td>-0.246927</td>\n",
       "      <td>-0.417933</td>\n",
       "      <td>-0.047275</td>\n",
       "      <td>-0.022266</td>\n",
       "      <td>-0.286928</td>\n",
       "      <td>-0.286422</td>\n",
       "    </tr>\n",
       "  </tbody>\n",
       "</table>\n",
       "<p>5 rows × 804 columns</p>\n",
       "</div>"
      ],
      "text/plain": [
       "       read  modified   deleted  accessed     N_udp    N_http    N_icmp  \\\n",
       "0 -0.254656 -0.083903 -0.035172 -0.100053 -0.053718 -0.015743 -0.110045   \n",
       "1 -0.267080 -0.083903 -0.035172 -0.100053 -0.061344 -0.015743 -0.110045   \n",
       "2 -0.079975  0.299987 -0.021673  0.155595 -0.061344 -0.015743 -0.110045   \n",
       "3 -0.244482 -0.051988 -0.035172 -0.058663 -0.049905 -0.015743 -0.110045   \n",
       "4  0.122337 -0.078432 -0.035172 -0.100053 -0.053718 -0.015743 -0.110045   \n",
       "\n",
       "      N_tcp   N_hosts     N_dns  ...  werconcpl.dll  pstorec.dll  \\\n",
       "0 -0.233079  0.762574 -0.045518  ...      -0.286422    -0.031497   \n",
       "1  0.451570 -1.303030 -0.045518  ...      -0.286422    -0.031497   \n",
       "2 -0.233079 -1.303030 -0.045518  ...      -0.286422    -0.031497   \n",
       "3  0.451570  0.762574 -0.045518  ...      -0.286422    -0.031497   \n",
       "4 -0.233079  0.762574 -0.045518  ...      -0.286422    -0.031497   \n",
       "\n",
       "   MTFServer.dll  DevDispItemProvider.dll  comdlg32.dll  WININET.dll  \\\n",
       "0      -0.044566                -0.286422     -0.246927    -0.417933   \n",
       "1      -0.044566                -0.286422     -0.246927    -0.417933   \n",
       "2      -0.044566                -0.286422     -0.246927    -0.417933   \n",
       "3      -0.044566                -0.286422     -0.246927    -0.417933   \n",
       "4      -0.044566                -0.286422     -0.246927    -0.417933   \n",
       "\n",
       "   MSVCR90.dll  USP10.dll  d2d1.dll  CHARTV.dll  \n",
       "0    -0.047275  -0.022266 -0.286928   -0.286422  \n",
       "1    -0.047275  -0.022266 -0.286928   -0.286422  \n",
       "2    -0.047275  -0.022266 -0.286928   -0.286422  \n",
       "3    -0.047275  -0.022266 -0.286928   -0.286422  \n",
       "4    -0.047275  -0.022266 -0.286928   -0.286422  \n",
       "\n",
       "[5 rows x 804 columns]"
      ]
     },
     "execution_count": 17,
     "metadata": {},
     "output_type": "execute_result"
    }
   ],
   "source": [
    "X_new = pd.DataFrame(X_scaled, columns=X.columns)\n",
    "X_new.head()"
   ]
  },
  {
   "cell_type": "code",
   "execution_count": 18,
   "metadata": {},
   "outputs": [
    {
     "name": "stdout",
     "output_type": "stream",
     "text": [
      "Variance sum :  0.7423775865202508\n"
     ]
    }
   ],
   "source": [
    "skpca = PCA(n_components=55)\n",
    "X_pca = skpca.fit_transform(X_new)\n",
    "print('Variance sum : ', skpca.explained_variance_ratio_.cumsum()[-1])"
   ]
  },
  {
   "cell_type": "code",
   "execution_count": 19,
   "metadata": {},
   "outputs": [],
   "source": [
    "## Decision Tree"
   ]
  },
  {
   "cell_type": "code",
   "execution_count": 20,
   "metadata": {},
   "outputs": [],
   "source": [
    "from sklearn.tree import DecisionTreeClassifier\n",
    "from sklearn.metrics import classification_report, confusion_matrix"
   ]
  },
  {
   "cell_type": "code",
   "execution_count": 21,
   "metadata": {},
   "outputs": [
    {
     "name": "stdout",
     "output_type": "stream",
     "text": [
      "                 precision    recall  f1-score   support\n",
      "\n",
      "         AdWare       0.73      0.73      0.73       246\n",
      "       Backdoor       0.66      0.49      0.56        59\n",
      "DangerousObject       0.00      0.00      0.00         4\n",
      "     Downloader       0.75      0.69      0.72        83\n",
      "     Email-Worm       0.25      0.25      0.25         4\n",
      "        Exploit       0.40      0.67      0.50         3\n",
      "       Net-Worm       0.00      0.00      0.00         0\n",
      "        NetTool       1.00      0.36      0.53        11\n",
      "         Packed       0.32      0.38      0.34        16\n",
      "       RiskTool       0.38      0.75      0.50         4\n",
      "         Trojan       0.70      0.76      0.73       374\n",
      "          Virus       0.54      0.25      0.34       106\n",
      "     WebToolbar       0.57      0.67      0.62         6\n",
      "           Worm       0.61      0.78      0.68        36\n",
      "     undetected       0.16      0.25      0.20        57\n",
      "\n",
      "       accuracy                           0.63      1009\n",
      "      macro avg       0.47      0.47      0.45      1009\n",
      "   weighted avg       0.65      0.63      0.63      1009\n",
      "\n"
     ]
    },
    {
     "name": "stderr",
     "output_type": "stream",
     "text": [
      "/Users/ham/opt/anaconda3/lib/python3.7/site-packages/sklearn/metrics/classification.py:1439: UndefinedMetricWarning: Recall and F-score are ill-defined and being set to 0.0 in labels with no true samples.\n",
      "  'recall', 'true', average, warn_for)\n"
     ]
    }
   ],
   "source": [
    "model = DecisionTreeClassifier(random_state=0,max_depth=16,max_features='sqrt')\n",
    "model.fit(X_pca,y_train)\n",
    "\n",
    "X_test_scaled=scaler.transform(X_test)\n",
    "X_test_new = pd.DataFrame(X_test_scaled, columns=X.columns)\n",
    "X_test_pca = skpca.transform(X_test_new)\n",
    "\n",
    "y_pred = model.predict(X_test_pca)\n",
    "print(classification_report(y_pred,y_test))"
   ]
  },
  {
   "cell_type": "code",
   "execution_count": 22,
   "metadata": {},
   "outputs": [
    {
     "data": {
      "text/plain": [
       "<matplotlib.axes._subplots.AxesSubplot at 0x1a249f05d0>"
      ]
     },
     "execution_count": 22,
     "metadata": {},
     "output_type": "execute_result"
    },
    {
     "data": {
      "image/png": "[encoded data removed]",
      "text/plain": [
       "<Figure size 432x288 with 1 Axes>"
      ]
     },
     "metadata": {
      "needs_background": "light"
     },
     "output_type": "display_data"
    }
   ],
   "source": [
    "sns.heatmap(confusion_matrix(y_pred,y_test),annot=True,fmt=\"d\",cmap=plt.cm.Blues,cbar=False)"
   ]
  },
  {
   "cell_type": "code",
   "execution_count": null,
   "metadata": {},
   "outputs": [],
   "source": [
    "## RFC "
   ]
  },
  {
   "cell_type": "code",
   "execution_count": 26,
   "metadata": {},
   "outputs": [],
   "source": [
    "from sklearn.ensemble import RandomForestClassifier as RFC\n",
    "from sklearn.metrics import classification_report, confusion_matrix"
   ]
  },
  {
   "cell_type": "code",
   "execution_count": 27,
   "metadata": {},
   "outputs": [
    {
     "name": "stdout",
     "output_type": "stream",
     "text": [
      "Variance sum :  0.47762175567149395\n"
     ]
    }
   ],
   "source": [
    "skpca = PCA(n_components=10)\n",
    "X_pca = skpca.fit_transform(X_new)\n",
    "print('Variance sum : ', skpca.explained_variance_ratio_.cumsum()[-1])"
   ]
  },
  {
   "cell_type": "code",
   "execution_count": 28,
   "metadata": {},
   "outputs": [
    {
     "name": "stdout",
     "output_type": "stream",
     "text": [
      "                 precision    recall  f1-score   support\n",
      "\n",
      "         AdWare       0.77      0.84      0.80       225\n",
      "       Backdoor       0.70      0.82      0.76        38\n",
      "DangerousObject       0.78      0.70      0.74        10\n",
      "     Downloader       0.78      0.78      0.78        76\n",
      "     Email-Worm       0.50      1.00      0.67         2\n",
      "        Exploit       0.40      1.00      0.57         2\n",
      "       Net-Worm       0.00      0.00      0.00         3\n",
      "        NetTool       1.00      1.00      1.00         4\n",
      "         Packed       0.37      0.70      0.48        10\n",
      "       RiskTool       0.50      0.80      0.62         5\n",
      "         Trojan       0.87      0.71      0.78       504\n",
      "          Virus       0.54      0.63      0.58        41\n",
      "     WebToolbar       0.57      1.00      0.73         4\n",
      "           Worm       0.65      0.94      0.77        32\n",
      "     undetected       0.34      0.55      0.42        53\n",
      "\n",
      "       accuracy                           0.74      1009\n",
      "      macro avg       0.58      0.76      0.65      1009\n",
      "   weighted avg       0.78      0.74      0.75      1009\n",
      "\n"
     ]
    }
   ],
   "source": [
    "model = RFC(n_estimators=100, random_state=0,oob_score=True,max_depth=16,max_features='sqrt')\n",
    "model.fit(X_pca,y_train)\n",
    "\n",
    "X_test_scaled=scaler.transform(X_test)\n",
    "X_test_new = pd.DataFrame(X_test_scaled, columns=X.columns)\n",
    "X_test_pca = skpca.transform(X_test_new)\n",
    "\n",
    "y_pred = model.predict(X_test_pca)\n",
    "print(classification_report(y_pred,y_test))"
   ]
  },
  {
   "cell_type": "code",
   "execution_count": 29,
   "metadata": {},
   "outputs": [
    {
     "data": {
      "text/plain": [
       "<matplotlib.axes._subplots.AxesSubplot at 0x1a24960dd0>"
      ]
     },
     "execution_count": 29,
     "metadata": {},
     "output_type": "execute_result"
    },
    {
     "data": {
      "image/png": "[encoded data removed]",
      "text/plain": [
       "<Figure size 432x288 with 1 Axes>"
      ]
     },
     "metadata": {
      "needs_background": "light"
     },
     "output_type": "display_data"
    }
   ],
   "source": [
    "sns.heatmap(confusion_matrix(y_pred,y_test),annot=True,fmt=\"d\",cmap=plt.cm.Blues,cbar=False)"
   ]
  },
  {
   "cell_type": "code",
   "execution_count": null,
   "metadata": {},
   "outputs": [],
   "source": []
  }
 ],
 "metadata": {
  "kernelspec": {
   "display_name": "Python 3",
   "language": "python",
   "name": "python3"
  },
  "language_info": {
   "codemirror_mode": {
    "name": "ipython",
    "version": 3
   },
   "file_extension": ".py",
   "mimetype": "text/x-python",
   "name": "python",
   "nbconvert_exporter": "python",
   "pygments_lexer": "ipython3",
   "version": "3.7.4"
  }
 },
 "nbformat": 4,
 "nbformat_minor": 4
}
